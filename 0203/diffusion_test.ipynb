{
 "cells": [
  {
   "cell_type": "code",
   "execution_count": 3,
   "id": "7200aa3f-2089-497b-8ea5-d75fc951b7f0",
   "metadata": {},
   "outputs": [
    {
     "data": {
      "application/vnd.jupyter.widget-view+json": {
       "model_id": "d452c0a56f2043f2a6d5421ea6d52950",
       "version_major": 2,
       "version_minor": 0
      },
      "text/plain": [
       "Loading pipeline components...:   0%|          | 0/6 [00:00<?, ?it/s]"
      ]
     },
     "metadata": {},
     "output_type": "display_data"
    },
    {
     "name": "stderr",
     "output_type": "stream",
     "text": [
      "You have disabled the safety checker for <class 'diffusers.pipelines.stable_diffusion.pipeline_stable_diffusion.StableDiffusionPipeline'> by passing `safety_checker=None`. Ensure that you abide to the conditions of the Stable Diffusion license and do not expose unfiltered results in services or applications open to the public. Both the diffusers team and Hugging Face strongly recommend to keep the safety filter enabled in all public facing circumstances, disabling it only for use-cases that involve analyzing network behavior or auditing its results. For more information, please have a look at https://github.com/huggingface/diffusers/pull/254 .\n"
     ]
    }
   ],
   "source": [
    "import torch\n",
    "from diffusers import StableDiffusionPipeline\n",
    "#from PIL import Image\n",
    "import numpy as np\n",
    "from torchvision import transforms\n",
    "\n",
    "# ============================\n",
    "# 1. 모델 불러오기 및 준비\n",
    "# ============================\n",
    "model_id = \"sd-legacy/stable-diffusion-v1-5\" \n",
    "pipe = StableDiffusionPipeline.from_pretrained(\n",
    "    model_id,  \n",
    "    torch_dtype=torch.float16,\n",
    "    safety_checker=None  # 테스트 -> 안전 체크 비활성화\n",
    ")\n",
    "pipe = pipe.to(\"cuda\")"
   ]
  },
  {
   "cell_type": "code",
   "execution_count": 23,
   "id": "6845a9b6-36b8-46f5-ab46-f5726e034801",
   "metadata": {},
   "outputs": [
    {
     "data": {
      "text/plain": [
       "'\\nconv_in: 입력 latent를 처리하는 첫 번째 convolution 레이어\\ndown_blocks: 입력을 점진적으로 다운샘플링하며 특징을 추출하는 블록들\\nmid_block: 다운샘플링된 특징을 처리하는 중간 블록\\nup_blocks: 업샘플링하면서 원래 해상도로 복원하는 블록들\\nconv_norm_out: 업블록의 출력을 정규화하는 레이어\\nconv_out: 최종적으로 noise 예측 혹은 결과를 생성하는 마지막 convolution 레이어\\n'"
      ]
     },
     "execution_count": 23,
     "metadata": {},
     "output_type": "execute_result"
    }
   ],
   "source": [
    "#print(dir(pipe.unet))\n",
    "\"\"\"\n",
    "conv_in: 입력 latent를 처리하는 첫 번째 convolution 레이어\n",
    "down_blocks: 입력을 점진적으로 다운샘플링하며 특징을 추출하는 블록들\n",
    "mid_block: 다운샘플링된 특징을 처리하는 중간 블록\n",
    "up_blocks: 업샘플링하면서 원래 해상도로 복원하는 블록들\n",
    "conv_norm_out: 업블록의 출력을 정규화하는 레이어\n",
    "conv_out: 최종적으로 noise 예측 혹은 결과를 생성하는 마지막 convolution 레이어\n",
    "\"\"\""
   ]
  },
  {
   "cell_type": "code",
   "execution_count": 32,
   "id": "116d0f36-aa98-4d9e-b274-85d063044290",
   "metadata": {},
   "outputs": [],
   "source": [
    "from PIL import Image as PILImage\n",
    "\n",
    "# ================================\n",
    "# ASH 방식 -  활성화 처리 함수 (논문 참고)\n",
    "# ================================\n",
    "def ash_process(activations, keep_ratio=0.1, amplify_factor=10.0):\n",
    "    \"\"\"\n",
    "    activations: 입력 활성화 텐서 (예: shape = [B, C, H, W])\n",
    "    keep_ratio: 전체 값 중 상위 몇 %를 남길지 (예: 0.1이면 상위 10%만 남김)\n",
    "    amplify_factor: 남은 값에 곱할 증폭 인자 (보통 1/keep_ratio, 여기서는 10.0)\n",
    "    \n",
    "    상위 10%의 값만 남기고 나머지는 0으로 만든 후 증폭하여 반환\n",
    "    \"\"\"\n",
    "    \n",
    "    # 활성화 텐서를 float32로 변환\n",
    "    activations_float = activations.float()\n",
    "    # float32 텐서를 사용해서 quantile 계산\n",
    "    threshold = torch.quantile(activations_float, 1 - keep_ratio)\n",
    "    # 임계값 이상인 위치는 1, 미만인 위치는 0인 마스크 생성\n",
    "    mask = (activations_float >= threshold).float()\n",
    "    # 마스크와 원래 값에 증폭 인자를 곱함\n",
    "    processed_float = mask * activations_float * amplify_factor\n",
    "    # 원래 텐서의 dtype (예: float16)로 변환하여 반환할 수도 있음\n",
    "    processed = processed_float.to(activations.dtype)\n",
    "    return processed, threshold\n",
    "\n",
    "# ------------------------------\n",
    "# 2. 내부 활성화 값 추출을 위한 Hook 등록 (= Layer선택), \n",
    "#   논문에서는 마지막 쯤 layer를 선택하는 것이 효과가 좋다고 함. -> conv_out 선택\n",
    "\n",
    "# ------------------------------\n",
    "\n",
    "activation_store = {}\n",
    "\n",
    "def hook_fn_ash(module, input, output):\n",
    "    # # output은 tensor 또는 tuple 형태일 수 있음.\n",
    "    # activation_store[\"conv_out\"] = output.detach().float()  # CPU 또는 float32로 변환\n",
    "    \n",
    "    # output: hook이 걸린 레이어의 출력 활성화값\n",
    "    processed_output, threshold = ash_process(output, keep_ratio=0.1, amplify_factor=10.0)\n",
    "    # 후처리된 활성화와 임계값을 저장 (추후 분석용)\n",
    "    activation_store[\"ash_layer\"] = processed_output.detach().float()\n",
    "    activation_store[\"ash_threshold\"] = threshold.detach().float()\n",
    "    # 반환한 값로 후속 연산에도 적용되므로, 반환값을 processed_output으로 함\n",
    "    return processed_output\n",
    "\n",
    "# sd-legacy 모델의 UNet 내부 첫 번째 convolution 레이어에 hook 등록\n",
    "hook_handle = pipe.unet.conv_out.register_forward_hook(hook_fn_ash)"
   ]
  },
  {
   "cell_type": "code",
   "execution_count": 14,
   "id": "46cb5ff1-971e-4087-8a05-72108fafad11",
   "metadata": {},
   "outputs": [],
   "source": [
    "# ------------------------------\n",
    "# 3. 이미지 전처리 함수\n",
    "# ------------------------------\n",
    "def load_and_preprocess_image(image_path, size=512):\n",
    "    \"\"\"\n",
    "    이미지 파일을 로드-> (1, C, H, W) 텐서로 변환 후 [-1, 1] 범위로 정규화.\n",
    "    \"\"\"\n",
    "    image = PILImage.open(image_path).convert(\"RGB\")\n",
    "    transform = transforms.Compose([\n",
    "        transforms.Resize((size, size)),\n",
    "        transforms.ToTensor(),  # [0,1] 범위\n",
    "        transforms.Normalize([0.5, 0.5, 0.5], [0.5, 0.5, 0.5])  # [-1,1] 범위로 변환\n",
    "    ])\n",
    "    return transform(image).unsqueeze(0)\n"
   ]
  },
  {
   "cell_type": "code",
   "execution_count": 28,
   "id": "9c1970bc-3c16-48fa-8c7e-284e85fe1aba",
   "metadata": {},
   "outputs": [],
   "source": [
    "def run_experiment(image_path):\n",
    "    # (1) 이미지 로드 및 전처리, GPU와 float16 타입으로 변환\n",
    "    image_tensor = load_and_preprocess_image(image_path).to(pipe.device, dtype=torch.float16)\n",
    "    \n",
    "    # (2) VAE 인코딩을 통해 latent 추출\n",
    "    with torch.no_grad():\n",
    "        latent_dist = pipe.vae.encode(image_tensor).latent_dist\n",
    "        latent = latent_dist.sample() * 0.18215  # Stable Diffusion 스케일 팩터 적용\n",
    "\n",
    "    # (3) diffusion 과정에 사용할 timestep 및 dummy 텍스트 조건부 생성\n",
    "    timestep = torch.tensor([500], device=pipe.device).long()\n",
    "    encoder_hidden_states = torch.zeros((1, 77, 768), device=pipe.device, dtype=torch.float16)\n",
    "    \n",
    "    # (4) UNet forward pass 수행: 이때 hook 함수가 conv_out에 적용되어 ASH 처리됨\n",
    "    with torch.no_grad():\n",
    "        _ = pipe.unet(latent, timestep, encoder_hidden_states)\n",
    "    \n",
    "    # (5) hook에 저장된 후처리된 활성화값과 임계값 추출\n",
    "    processed_activation = activation_store.get(\"ash_layer\", None)\n",
    "    threshold = activation_store.get(\"ash_threshold\", None)\n",
    "    if processed_activation is None:\n",
    "        print(\"Hook에서 활성화 값을 저장하지 못했습니다.\")\n",
    "        return None\n",
    "\n",
    "    # (6) 간단한 통계 예: 후처리된 활성화의 평균값을 OOD 지표로 활용\n",
    "    stat = processed_activation.mean().item()\n",
    "    print(f\"이미지: {image_path}\")\n",
    "    print(f\"ASH 임계값 (상위 10% 기준): {threshold.item():.4f}\")\n",
    "    print(f\"ASH 후 활성화 평균: {stat:.4f}\")\n",
    "    return stat"
   ]
  },
  {
   "cell_type": "code",
   "execution_count": 36,
   "id": "17f9c70a-5cc5-4e5e-b74a-0a9a56718af9",
   "metadata": {},
   "outputs": [
    {
     "name": "stdout",
     "output_type": "stream",
     "text": [
      "이미지: /home/jovyan/data/yejin/flower.png\n",
      "ASH 임계값 (상위 10% 기준): 87.6250\n",
      "ASH 후 활성화 평균: 119.4197\n",
      "이미지: /home/jovyan/data/yejin/CT.jpg\n",
      "ASH 임계값 (상위 10% 기준): 55.9062\n",
      "ASH 후 활성화 평균: 93.0344\n",
      "\n",
      "실험 결과 (각 이미지의 ASH 후 평균 활성화):\n",
      "/home/jovyan/data/yejin/flower.png: 119.4197\n",
      "/home/jovyan/data/yejin/CT.jpg: 93.0344\n"
     ]
    }
   ],
   "source": [
    "# 6. 실험 실행 예시\n",
    "# ================================\n",
    "if __name__ == \"__main__\":\n",
    "    # 실험에 사용할 이미지 경로 (예: 정상 이미지와 OOD 후보)\n",
    "    image_paths = [\n",
    "        \"/home/jovyan/data/yejin/flower.png\",\n",
    "        \"/home/jovyan/data/yejin/CT.jpg\"  # CT 영상 등, 모델 학습 분포와 다른 도메인의 이미지\n",
    "    ]\n",
    "    scores = {}\n",
    "    for path in image_paths:\n",
    "        score = run_experiment(path)\n",
    "        scores[path] = score\n",
    "    print(\"\\n실험 결과 (각 이미지의 ASH 후 평균 활성화):\")\n",
    "    for path, score in scores.items():\n",
    "        print(f\"{path}: {score:.4f}\")"
   ]
  },
  {
   "cell_type": "code",
   "execution_count": 16,
   "id": "ee85fd6f-4b63-4758-aa78-b02259913dce",
   "metadata": {},
   "outputs": [
    {
     "data": {
      "image/png": "[encoded data removed]",
      "text/plain": [
       "<IPython.core.display.Image object>"
      ]
     },
     "metadata": {},
     "output_type": "display_data"
    }
   ],
   "source": [
    "import os\n",
    "from IPython.display import display\n",
    "\n",
    "# 현재 디렉토리에 \"flower.png\"가 있는지 확인\n",
    "if os.path.exists(\"flower.png\"):\n",
    "    # 이미지 파일을 표시\n",
    "    display(Image(filename=\"flower.png\"))\n",
    "else:\n",
    "    print(\"현재 디렉토리에 'flower.png' 파일이 존재하지 않습니다.\")"
   ]
  }
 ],
 "metadata": {
  "kernelspec": {
   "display_name": "Python 3",
   "language": "python",
   "name": "python3"
  },
  "language_info": {
   "codemirror_mode": {
    "name": "ipython",
    "version": 3
   },
   "file_extension": ".py",
   "mimetype": "text/x-python",
   "name": "python",
   "nbconvert_exporter": "python",
   "pygments_lexer": "ipython3",
   "version": "3.8.10"
  }
 },
 "nbformat": 4,
 "nbformat_minor": 5
}
